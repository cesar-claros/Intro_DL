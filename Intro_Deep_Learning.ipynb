{
  "nbformat": 4,
  "nbformat_minor": 0,
  "metadata": {
    "colab": {
      "name": "Intro_Deep_Learning.ipynb",
      "provenance": [],
      "collapsed_sections": [],
      "toc_visible": true,
      "authorship_tag": "ABX9TyPYmhuq9tEkpto/9heMu8up",
      "include_colab_link": true
    },
    "kernelspec": {
      "name": "python3",
      "display_name": "Python 3"
    },
    "language_info": {
      "name": "python"
    },
    "accelerator": "GPU"
  },
  "cells": [
    {
      "cell_type": "markdown",
      "metadata": {
        "id": "view-in-github",
        "colab_type": "text"
      },
      "source": [
        "<a href=\"https://colab.research.google.com/github/cesar-claros/Intro_DL/blob/main/Intro_Deep_Learning.ipynb\" target=\"_parent\"><img src=\"https://colab.research.google.com/assets/colab-badge.svg\" alt=\"Open In Colab\"/></a>"
      ]
    },
    {
      "cell_type": "markdown",
      "metadata": {
        "id": "8-b0WqyjbG3C"
      },
      "source": [
        "# **INTRODUCCIÓN A DEEP LEARNING**\n",
        "#---------------------------------------------------------\n",
        "## **CONTENIDO**\n",
        "## 1. Precursores de las redes neuronales\n",
        "## 2. Formalización del problema de aprendizaje\n",
        "## 3. El perceptrón y su algoritmo de entrenamiento\n",
        "## 4. Implementación con datos separables linealmente (Iris dataset)\n",
        "## 5. Consideraciones para datos no separables linealmente\n",
        "## 6. Ingeniería de características para aprendizaje automático\n",
        "## 7. Perceptrón multicapa y aprendizaje automático *end-to-end*\n",
        "## 8. Ejemplo de clasificación multiclase con MLP (MNIST dataset)\n",
        "## 9. Arquitectura LeNet\n"
      ]
    },
    {
      "cell_type": "markdown",
      "metadata": {
        "id": "lFI_ugGozRFr"
      },
      "source": [
        "# 1.&nbsp;Precursores de las redes neuronales"
      ]
    },
    {
      "cell_type": "markdown",
      "metadata": {
        "id": "z4N_NdcsdA0X"
      },
      "source": [
        "# 1.1. Neuronas artificales y el modelo de McCulloch-Pitts (1943)\n",
        "Abstracciones inspiradas en el comportamiento de las células nerviosas.\n",
        "<img src=\"https://sebastianraschka.com/images/blog/2015/singlelayer_neural_networks_files/perceptron_neuron.png\" alt=\"neuron\" width=\"1000px\">\n",
        "Fuente: [Single-Layer Neural Networks and Gradient Descent](https://sebastianraschka.com/Articles/2015_singlelayer_neurons.html),\n"
      ]
    },
    {
      "cell_type": "markdown",
      "metadata": {
        "id": "8T9pUHSuGSyo"
      },
      "source": [
        "Una combinación entre maquinas de estado finito, elementos de decisión lineales con umbrales y representaciones lógicas.\n",
        "<img src=\"https://asset-pdf.scinapse.io/prod/2046606639/figures/figure-2.jpg\" alt=\"mp_model\" width=\"1000px\">\n",
        "*Net explaining the heat illusion. Neuron 3 (heat sensation) fires if and only if it receives two inputs, represented by the lines terminating on its body. This happens when either neuron 1 (heat reception) fires or neuron 2 (cold reception) fires once and then immediately stops firing. When neuron 2 fires twice in a row, the intermediate (unnumbered) neurons excite neuron 4 rather than neuron 3, generating a sensation of cold.*\n",
        "\n",
        "\"The original purpose of McCulloch and Pitts’s technique for\n",
        "designing nets was to explain mental phenomena. As an example,\n",
        "they offered an explanation of a well-known heat illusion by constructing an appropriate net. A cold object touching the skin normally causes a sensation of cold, but if it is held for a very brief time and then removed, it can cause a sensation of heat. In designing their net, McCulloch and Pitts reasoned as follows. They started from the known physiological fact that there are different kinds of receptors affected by heat and cold, and they assumed that there are neurons whose activity ‘‘implies a sensation’’ of heat. Then, they assigned one neuron to each function: heat reception, cold reception, heat sensation, and cold sensation. Finally, they observed that the heat illusion corresponded to the following relations between three neurons: the heat-sensation neuron fires either in response to the heat receptor or to a brief activity of the cold receptor.\"\n",
        "\n",
        "Fuente: [THE FIRST COMPUTATIONAL THEORY OF MIND AND BRAIN: A CLOSE LOOK AT MCCULLOCH AND PITTS'S ''LOGICAL CALCULUS OF IDEAS IMMANENT IN NERVOUS ACTIVITY''](https://www.scinapse.io/papers/2046606639),\n"
      ]
    },
    {
      "cell_type": "markdown",
      "metadata": {
        "id": "v8q5dewsZgO0"
      },
      "source": [
        "# 1.2. Modelo de Rosenblatt (1958)\n",
        "Ilustración basada en las conexiones naturales del cerebro desde la retina al área visual.\n",
        "<img src=\"https://news.cornell.edu/sites/default/files/styles/breakout/public/2019-09/0925_rosenblatt4.jpg?itok=SQlcmwIR\" alt=\"perceptron\" width=\"1000px\">\n",
        "Fuente: [Professor’s perceptron paved the way for AI – 60 years too soon](https://news.cornell.edu/stories/2019/09/professors-perceptron-paved-way-ai-60-years-too-soon)\n"
      ]
    },
    {
      "cell_type": "markdown",
      "metadata": {
        "id": "YGLwhGx1ZkJS"
      },
      "source": [
        "# 1.3. Observaciones de Minksy y Papert (1969)\n",
        "\n",
        "Minksy y Papert escriben el libro titulado *Perceptron* en 1969, donde mencionan que el perceptrón no es capaz de aprender la función XOR.\n",
        "<img src=\"https://qph.fs.quoracdn.net/main-qimg-a6c557af4280d1f85cacc66e048e82f3\" alt=\"xor\" width=\"1000px\">\n",
        "Fuente: [Why can’t Perceptron learn XOR?](https://www.quora.com/Why-can-t-Perceptron-learn-XOR)\n",
        "\n",
        "Sin embargo, también nota que multiples perceptrones serían capaces de resolver el problema.\n",
        "<img src=\"https://qph.fs.quoracdn.net/main-qimg-a54247baa0862fd56a4c87cb608d4556-mzj\" alt=\"mlp\" width=\"1000px\">\n",
        "Fuente: [Why did it take so long for people to realize that the perceptron can be multilayered to overcome the limitations presented by Minsky and Pappert?](https://www.quora.com/Why-did-it-take-so-long-for-people-to-realize-that-the-perceptron-can-be-multilayered-to-overcome-the-limitations-presented-by-Minsky-and-Pappert)\n"
      ]
    },
    {
      "cell_type": "markdown",
      "metadata": {
        "id": "mdnZTONBG6u2"
      },
      "source": [
        "# 2.&nbsp;Formalización del problema de aprendizaje\n",
        "Los siguientes elementos componen el problema de aprendizaje:\n",
        "* Entradas $\\mathbf{x}\\in\\mathcal{X}$, donde $\\mathcal{X}$ es el espacio de entrada.\n",
        "    * Ejemplo:\n",
        "    \\begin{align}\n",
        "    \\mathbf{x}&=(x_1,x_2)=(0,0)\\\\\n",
        "    \\mathcal{X}&=\\big\\{(0,0),(0,1),(1,0),(1,1)\\big\\}\n",
        "    \\end{align}\n",
        "* Salidas $y\\in\\mathcal{Y}$, donde $\\mathcal{Y}$ es el espacio de salida.\n",
        "    * Ejemplo:\n",
        "    \\begin{align}\n",
        "    y&=1\\\\\n",
        "    \\mathcal{Y}&=\\left\\{1,-1\\right\\}\n",
        "    \\end{align}\n",
        "* Función objetivo a ser aprendida $f^\\star:\\mathcal{X}\\rightarrow\\mathcal{Y}$.\n",
        "    * Ejemplo: $f^\\star=x_1\\oplus x_2$\n",
        "    \n",
        "| $x_1$ | $x_2$ | $f^\\star$ |\n",
        "| :---  | :----:|  ---:     |\n",
        "| 0     | 0     | 0         |\n",
        "| 0     | 1     | 1         |\n",
        "| 1     | 0     | 1         |\n",
        "| 1     | 1     | 0         |\n",
        "\n",
        "* Datos $\\mathcal{D}=\\{(\\mathbf{x}_1,y_1), (\\mathbf{x}_2,y_2),\\dots,(\\mathbf{x}_N,y_N)\\}$, donde $N$ representa la cantidad de datos observados\n",
        "    * Ejemplo:\n",
        "    \\begin{equation}\n",
        "    \\mathcal{D}=\\bigg\\{\\big(\\left(1,1\\right),1\\big), \\big(\\left(0,0\\right),1\\big),\\big(\\left(1,0\\right),0\\big)\\bigg\\}\n",
        "    \\end{equation}\n",
        "\n",
        "* Función hipótesis $h\\in\\mathcal{H}$, donde $\\mathcal{H}$ es el conjunto de hipótesis.\n",
        "     * Ejemplo:\n",
        "    \\begin{align}\n",
        "    h_{\\mathbf{w},b}(x)&=\\sum_{i=1}^{d}{w_ix_i}+b,\\quad\\mathbf{w}=\\{w_1,w_2,\\dots,w_d\\}\\quad \\text{(predictor lineal)}\\\\\n",
        "    \\mathcal{H}&=\\left\\{h_{\\mathbf{w},b}:\\mathbf{w}\\in\\mathbb{R}^d,b\\in\\mathbb{b} \\right\\}\n",
        "    \\end{align}"
      ]
    },
    {
      "cell_type": "markdown",
      "metadata": {
        "id": "iI9BxSEwZseQ"
      },
      "source": [
        "# 2.1. Esquema básico de aprendizaje automático\n",
        "<img src=\"https://drive.google.com/uc?id=19n8qW6w7S24qKfn7-GbmDAwmHUjfsKIe\" alt=\"mlp\" width=\"1000px\" height=\"700px\">\n",
        "\n",
        "Fuente: [COMPONENTS OF LEARNING](https://work.caltech.edu/library/012.pdf) *(ligeramente modificado)"
      ]
    },
    {
      "cell_type": "markdown",
      "metadata": {
        "id": "2YcweNOgpF6V"
      },
      "source": [
        "# 3.&nbsp;El perceptrón y su algoritmo de entrenamiento\n",
        "El perceptrón implementa la siguiente función:\n",
        "\\begin{equation}\n",
        "h_{\\mathbf{w}}(x)=sign\\left(\\sum_{i=1}^{d}{w_ix_i}+w_0\\right),\\quad\\mathbf{w}=\\left[w_1,w_2,\\dots,w_d\\right]\n",
        "\\end{equation}\n",
        "De manera vectorial, puede escribirse de la siguiente manera:\n",
        "\\begin{equation}\n",
        "h_{\\mathbf{w}}(x)=sign\\left({\\mathbf{w}^T\\mathbf{x}}\\right)\n",
        "\\end{equation}\n",
        "donde $\\mathbf{w}=\\left[w_0, w_1,w_2,\\dots,w_d\\right]$ y $\\mathbf{x}=\\left[1,x_1,x_2,\\dots,x_d\\right]$.\n"
      ]
    },
    {
      "cell_type": "markdown",
      "metadata": {
        "id": "8RRcKyzWmh0t"
      },
      "source": [
        "<img src=\"https://drive.google.com/uc?id=1lQZslwXqkjR9XJy3SE3mCdKpQoa6RGaX\" alt=\"mlp\" width=\"1000px\">\n"
      ]
    },
    {
      "cell_type": "markdown",
      "metadata": {
        "id": "ZrDfH5Q9vQSw"
      },
      "source": [
        "\n",
        "El algoritmo de entramiento del perceptrón (Perceptron Learning Algorithm) se muestra a continuación:\n",
        "<img src=\"https://drive.google.com/uc?id=1FUOaFBY88RkaGan0IFtSmT2T72ivNzAE\" alt=\"mlp\" width=\"1000px\">\n",
        "Fuente: [PERCEPTRON](https://work.caltech.edu/library/013.pdf)\n"
      ]
    },
    {
      "cell_type": "markdown",
      "metadata": {
        "id": "EPbpJ-wIzuGx"
      },
      "source": [
        "# 4.&nbsp;Implementación con datos separables linealmente (Iris dataset)\n",
        "Iris contiene muestras de flores descritas cada una por 4 atributos: longitud del sépalo, ancho del sépalo, longitud del pétalo y ancho del pétalo. Las observaciones están clasificadas en 3 categorias: Iris Setosa, Iris Versicolor e Iris Virginica.\n",
        "\n",
        "Iris Setosa             |  Iris Versicolor          |  Iris Virginica\n",
        ":-------------------------:|:-------------------------:|:-------------------------:\n",
        "<img src=\"https://upload.wikimedia.org/wikipedia/commons/thumb/5/56/Kosaciec_szczecinkowaty_Iris_setosa.jpg/440px-Kosaciec_szczecinkowaty_Iris_setosa.jpg\" alt=\"drawing\" width=\"300\"/>  |  <img src=\"https://upload.wikimedia.org/wikipedia/commons/thumb/2/27/Blue_Flag%2C_Ottawa.jpg/440px-Blue_Flag%2C_Ottawa.jpg\" alt=\"drawing\" width=\"300\"/> |  <img src=\"https://upload.wikimedia.org/wikipedia/commons/thumb/f/f8/Iris_virginica_2.jpg/440px-Iris_virginica_2.jpg\" alt=\"drawing\" width=\"300\"/>"
      ]
    },
    {
      "cell_type": "code",
      "metadata": {
        "id": "crAQQxdlbGJ4"
      },
      "source": [
        "# Import libraries\n",
        "import os\n",
        "import random\n",
        "import numpy as np\n",
        "import time\n",
        "import matplotlib.pyplot as plt\n",
        "from matplotlib.colors import ListedColormap\n",
        "from mpl_toolkits import mplot3d\n",
        "import pandas as pd\n",
        "from sklearn.model_selection import train_test_split\n",
        "from IPython import display\n",
        "import tensorflow as tf"
      ],
      "execution_count": null,
      "outputs": []
    },
    {
      "cell_type": "code",
      "metadata": {
        "colab": {
          "base_uri": "https://localhost:8080/",
          "height": 419
        },
        "id": "9_Za5ngP0L50",
        "outputId": "00244c23-c8c8-4fa4-d2e7-28ce870d9993"
      },
      "source": [
        "url = 'https://archive.ics.uci.edu/ml/machine-learning-databases/iris/iris.data'\n",
        "# download and convert the csv into a DataFrame\n",
        "df = pd.read_csv(url, header=None, names=['sepal length', 'sepal width', 'petal length', 'petal width', 'class'])\n",
        "df"
      ],
      "execution_count": null,
      "outputs": [
        {
          "output_type": "execute_result",
          "data": {
            "text/html": [
              "<div>\n",
              "<style scoped>\n",
              "    .dataframe tbody tr th:only-of-type {\n",
              "        vertical-align: middle;\n",
              "    }\n",
              "\n",
              "    .dataframe tbody tr th {\n",
              "        vertical-align: top;\n",
              "    }\n",
              "\n",
              "    .dataframe thead th {\n",
              "        text-align: right;\n",
              "    }\n",
              "</style>\n",
              "<table border=\"1\" class=\"dataframe\">\n",
              "  <thead>\n",
              "    <tr style=\"text-align: right;\">\n",
              "      <th></th>\n",
              "      <th>sepal length</th>\n",
              "      <th>sepal width</th>\n",
              "      <th>petal length</th>\n",
              "      <th>petal width</th>\n",
              "      <th>class</th>\n",
              "    </tr>\n",
              "  </thead>\n",
              "  <tbody>\n",
              "    <tr>\n",
              "      <th>0</th>\n",
              "      <td>5.1</td>\n",
              "      <td>3.5</td>\n",
              "      <td>1.4</td>\n",
              "      <td>0.2</td>\n",
              "      <td>Iris-setosa</td>\n",
              "    </tr>\n",
              "    <tr>\n",
              "      <th>1</th>\n",
              "      <td>4.9</td>\n",
              "      <td>3.0</td>\n",
              "      <td>1.4</td>\n",
              "      <td>0.2</td>\n",
              "      <td>Iris-setosa</td>\n",
              "    </tr>\n",
              "    <tr>\n",
              "      <th>2</th>\n",
              "      <td>4.7</td>\n",
              "      <td>3.2</td>\n",
              "      <td>1.3</td>\n",
              "      <td>0.2</td>\n",
              "      <td>Iris-setosa</td>\n",
              "    </tr>\n",
              "    <tr>\n",
              "      <th>3</th>\n",
              "      <td>4.6</td>\n",
              "      <td>3.1</td>\n",
              "      <td>1.5</td>\n",
              "      <td>0.2</td>\n",
              "      <td>Iris-setosa</td>\n",
              "    </tr>\n",
              "    <tr>\n",
              "      <th>4</th>\n",
              "      <td>5.0</td>\n",
              "      <td>3.6</td>\n",
              "      <td>1.4</td>\n",
              "      <td>0.2</td>\n",
              "      <td>Iris-setosa</td>\n",
              "    </tr>\n",
              "    <tr>\n",
              "      <th>...</th>\n",
              "      <td>...</td>\n",
              "      <td>...</td>\n",
              "      <td>...</td>\n",
              "      <td>...</td>\n",
              "      <td>...</td>\n",
              "    </tr>\n",
              "    <tr>\n",
              "      <th>145</th>\n",
              "      <td>6.7</td>\n",
              "      <td>3.0</td>\n",
              "      <td>5.2</td>\n",
              "      <td>2.3</td>\n",
              "      <td>Iris-virginica</td>\n",
              "    </tr>\n",
              "    <tr>\n",
              "      <th>146</th>\n",
              "      <td>6.3</td>\n",
              "      <td>2.5</td>\n",
              "      <td>5.0</td>\n",
              "      <td>1.9</td>\n",
              "      <td>Iris-virginica</td>\n",
              "    </tr>\n",
              "    <tr>\n",
              "      <th>147</th>\n",
              "      <td>6.5</td>\n",
              "      <td>3.0</td>\n",
              "      <td>5.2</td>\n",
              "      <td>2.0</td>\n",
              "      <td>Iris-virginica</td>\n",
              "    </tr>\n",
              "    <tr>\n",
              "      <th>148</th>\n",
              "      <td>6.2</td>\n",
              "      <td>3.4</td>\n",
              "      <td>5.4</td>\n",
              "      <td>2.3</td>\n",
              "      <td>Iris-virginica</td>\n",
              "    </tr>\n",
              "    <tr>\n",
              "      <th>149</th>\n",
              "      <td>5.9</td>\n",
              "      <td>3.0</td>\n",
              "      <td>5.1</td>\n",
              "      <td>1.8</td>\n",
              "      <td>Iris-virginica</td>\n",
              "    </tr>\n",
              "  </tbody>\n",
              "</table>\n",
              "<p>150 rows × 5 columns</p>\n",
              "</div>"
            ],
            "text/plain": [
              "     sepal length  sepal width  petal length  petal width           class\n",
              "0             5.1          3.5           1.4          0.2     Iris-setosa\n",
              "1             4.9          3.0           1.4          0.2     Iris-setosa\n",
              "2             4.7          3.2           1.3          0.2     Iris-setosa\n",
              "3             4.6          3.1           1.5          0.2     Iris-setosa\n",
              "4             5.0          3.6           1.4          0.2     Iris-setosa\n",
              "..            ...          ...           ...          ...             ...\n",
              "145           6.7          3.0           5.2          2.3  Iris-virginica\n",
              "146           6.3          2.5           5.0          1.9  Iris-virginica\n",
              "147           6.5          3.0           5.2          2.0  Iris-virginica\n",
              "148           6.2          3.4           5.4          2.3  Iris-virginica\n",
              "149           5.9          3.0           5.1          1.8  Iris-virginica\n",
              "\n",
              "[150 rows x 5 columns]"
            ]
          },
          "metadata": {},
          "execution_count": 2
        }
      ]
    },
    {
      "cell_type": "code",
      "metadata": {
        "colab": {
          "base_uri": "https://localhost:8080/",
          "height": 483
        },
        "id": "ro8RHvrk4C_Q",
        "outputId": "2f1c5d3a-22e6-4b74-cf70-f505a6742845"
      },
      "source": [
        "# Disect data into chunks filtered by their class\n",
        "X1 = df.loc[(df['class']=='Iris-setosa'), ('sepal length', 'sepal width', 'petal length')].values\n",
        "X2 = df.loc[(df['class']=='Iris-versicolor'), ('sepal length', 'sepal width', 'petal length')].values\n",
        "X3 = df.loc[(df['class']=='Iris-virginica'), ('sepal length', 'sepal width', 'petal length')].values\n",
        "# Set figure canvas and size\n",
        "fig = plt.figure(figsize=(8,8))\n",
        "ax = plt.axes(projection='3d')\n",
        "# Set titles\n",
        "ax.set_title('Iris data set')\n",
        "ax.set_xlabel(\"Sepal length (cm)\")\n",
        "ax.set_ylabel(\"Sepal width (cm)\")\n",
        "ax.set_zlabel(\"Petal length (cm)\")\n",
        "# Plot the samples\n",
        "ax.scatter(X1[:,0], X1[:,1], X1[:,2], color='red', \n",
        "           marker='o', s=4, edgecolor='red', label=\"Iris Setosa\")\n",
        "ax.scatter(X2[:,0], X2[:,1], X2[:,2], color='blue', \n",
        "           marker='^', s=4, edgecolor='blue', label=\"Iris Versicolour\")\n",
        "ax.scatter(X3[:,0], X3[:,1], X3[:,2], color='green', \n",
        "           marker='x', s=4, edgecolor='green', label=\"Iris Virginica\")"
      ],
      "execution_count": null,
      "outputs": [
        {
          "output_type": "execute_result",
          "data": {
            "text/plain": [
              "<mpl_toolkits.mplot3d.art3d.Path3DCollection at 0x7ff05d52e0d0>"
            ]
          },
          "metadata": {},
          "execution_count": 3
        },
        {
          "output_type": "display_data",
          "data": {
            "image/png": "[encoded data removed]",
            "text/plain": [
              "<Figure size 576x576 with 1 Axes>"
            ]
          },
          "metadata": {
            "needs_background": "light"
          }
        }
      ]
    },
    {
      "cell_type": "code",
      "metadata": {
        "colab": {
          "base_uri": "https://localhost:8080/",
          "height": 514
        },
        "id": "HsZ8dMyj82yX",
        "outputId": "4201998f-97bd-441b-cd60-527709786ae7"
      },
      "source": [
        "# Set figure canvas and size\n",
        "fig = plt.figure(figsize=(8,8))\n",
        "# plot Iris Setosa samples\n",
        "plt.scatter(X1[:,0], X1[:,1], color='red', marker='o', label='Setosa')\n",
        "# plot Iris Versicolour samples\n",
        "plt.scatter(X2[:,0], X2[:,1], color='blue', marker='x', label='Versicolour')\n",
        "# show the legend\n",
        "plt.xlabel(\"Sepal length\")\n",
        "plt.ylabel(\"Sepal width\")\n",
        "plt.legend(loc='upper left')"
      ],
      "execution_count": null,
      "outputs": [
        {
          "output_type": "execute_result",
          "data": {
            "text/plain": [
              "<matplotlib.legend.Legend at 0x7ff05d4ae490>"
            ]
          },
          "metadata": {},
          "execution_count": 4
        },
        {
          "output_type": "display_data",
          "data": {
            "image/png": "[encoded data removed]",
            "text/plain": [
              "<Figure size 576x576 with 1 Axes>"
            ]
          },
          "metadata": {
            "needs_background": "light"
          }
        }
      ]
    },
    {
      "cell_type": "code",
      "metadata": {
        "id": "BKX6agMzEx7e"
      },
      "source": [
        "# Arrange dataset for PLA\n",
        "# set the output labels for each class in a vector\n",
        "y1 = np.ones((len(X1),1))\n",
        "y2 = -1*np.ones((len(X2),1))\n",
        "y = np.concatenate((y1,y2), axis=0)\n",
        "# set observations in a matrix\n",
        "X = np.concatenate((X1[:,:2],X2[:,:2]), axis=0)\n",
        "# add extra 1's to X\n",
        "X = np.concatenate((np.ones((len(X),1)), X), axis=1)\n",
        "# split the data\n",
        "X_train, X_test, y_train, y_test = train_test_split(X, y, test_size=0.25, random_state=0)"
      ],
      "execution_count": null,
      "outputs": []
    },
    {
      "cell_type": "markdown",
      "metadata": {
        "id": "1MTrM_DWTx_m"
      },
      "source": [
        "# 4.1. Funciones para implementar PLA\n",
        "* Perceptrón: $h_{\\mathbf{w}_t}(\\mathbf{x}_n)=sign(\\mathbf{w}_t^\\intercal\\mathbf{x}_n)$,\n",
        "\n",
        "* Función de actualización de los pesos: $\\mathbf{w}_{t+1}\\leftarrow\\mathbf{w}_t+y_n\\mathbf{x}_n$,\n",
        "\n",
        "* Función de costo: $\\ell_{0-1}(h_{\\mathbf{w}_t},\\mathbf{x}_n,y_n)=\\mathbb{I}_{ \\{h_{\\mathbf{w}_t}(\\mathbf{x}_n)\\neq y_n\\}}= \\begin{cases}\n",
        "1, \\text{ si $\\{h_{\\mathbf{w}_t}(\\mathbf{x}_n)\\neq y_n\\}$ ocurre}\\\\\n",
        "0, \\text{ de otra manera} \n",
        "\\end{cases}$,\n",
        "\n",
        "* Función de costo total: $L_{0-1}(h,\\mathbf{X},\\mathbf{y})=\\frac{\\sum_{i=1}^{N} \\ell_{0-1}(h,\\mathbf{x}_i,y_i) }{N}$,\n",
        "\n",
        "donde:\n",
        "\\begin{align*}\n",
        "\\mathbf{x}_n&=\\left[1,x_{1n},x_{2n},\\dots,x_{dn}\\right]\\in\\mathbb{R}^d,\\quad n\\in\\{1,\\dots,N\\}\\\\\n",
        "\\mathbf{X}&=[\\mathbf{x}_1, \\mathbf{x}_2, \\dots, \\mathbf{x}_N]^\\intercal\\in\\mathbb{R}^{N\\times d}\\\\\n",
        "\\mathbf{w}&=\\left[w_0,w_1,w_2,\\dots,w_d\\right]\\in\\mathbb{R}^d\\\\\n",
        "\\mathbf{y}&=\\left[y_1,y_2,\\dots,y_N\\right]\\in\\{-1,1\\}^N\n",
        "\\end{align*}"
      ]
    },
    {
      "cell_type": "code",
      "metadata": {
        "id": "SW4Ax-NaHcJQ"
      },
      "source": [
        "# IMPLEMENTATION\n",
        "# perceptron definition\n",
        "h = lambda w,x : np.sign(w.T@x)\n",
        "# update function\n",
        "update = lambda w,x,y : (w.T + y*x).T\n",
        "# loss function\n",
        "l_01 = lambda h,w,x,y : h(w,x.T).ravel() != y.ravel()\n",
        "# total loss function\n",
        "L_01 = lambda h,w,X,Y : np.sum(l_01(h,w,X,Y))/len(Y)"
      ],
      "execution_count": null,
      "outputs": []
    },
    {
      "cell_type": "code",
      "metadata": {
        "id": "RVe2UhiOuUu3"
      },
      "source": [
        "def plot_decision_regions(x, y, h, w, ext=0.5):\n",
        "    resolution = 0.001\n",
        "    \n",
        "    # define a set of markers\n",
        "    markers = ('o', 'x')\n",
        "    # define available colors\n",
        "    cmap = ListedColormap(('red', 'blue'))\n",
        "    \n",
        "    # select a range of x containing the scaled test set\n",
        "    x1_min, x1_max = x[:, 1].min() - ext, x[:, 1].max() + ext\n",
        "    x2_min, x2_max = x[:, 2].min() - ext, x[:, 2].max() + ext\n",
        "    \n",
        "    # create a grid of values to test the classifier on\n",
        "    xx1, xx2 = np.meshgrid(np.arange(x1_min, x1_max, resolution),\n",
        "                           np.arange(x2_min, x2_max, resolution))\n",
        "    X = np.array([np.ones(len(xx1.ravel())), xx1.ravel(), xx2.ravel()])\n",
        "    \n",
        "    Z = h(w,X)\n",
        "    Z = Z.reshape(xx1.shape)\n",
        "    # Set figure canvas and size\n",
        "    fig,ax = plt.subplots(figsize=(8,8))\n",
        "    # plot the decision region...\n",
        "    ax.contourf(xx1, xx2, Z, alpha=0.4, cmap=cmap)\n",
        "    ax.set_xlim(xx1.min(), xx1.max())\n",
        "    ax.set_ylim(xx2.min(), xx2.max())\n",
        "    \n",
        "    # ...and the points from the test set\n",
        "    y = y.ravel()\n",
        "    for idx, c1 in enumerate(np.unique(y)):\n",
        "        ax.scatter(x=x[y == c1, 1],\n",
        "                    y=x[y == c1, 2], \n",
        "                    alpha=0.8, \n",
        "                    color=cmap(idx), \n",
        "                    marker=markers[idx], \n",
        "                    label=c1)\n",
        "        ax.set_xlabel('$x_1$')\n",
        "        ax.set_ylabel('$x_2$')\n",
        "        ax.set_title('Decision surface')\n",
        "    return fig, ax"
      ],
      "execution_count": null,
      "outputs": []
    },
    {
      "cell_type": "code",
      "metadata": {
        "id": "bMw6_KlR91aN"
      },
      "source": [
        "# Seeding function\n",
        "def init_seed(seed=12345):\n",
        "    random.seed(seed)\n",
        "    os.environ['PYTHONHASHSEED'] = str(seed)\n",
        "    np.random.seed(seed)\n",
        "    tf.random.set_seed(seed)"
      ],
      "execution_count": null,
      "outputs": []
    },
    {
      "cell_type": "code",
      "metadata": {
        "id": "W26YwN-fFc_k"
      },
      "source": [
        "# Initialization\n",
        "# initial seed\n",
        "seed = 3210\n",
        "init_seed(seed)\n",
        "# initial weight vector\n",
        "w_init = np.random.normal(size=(3,1))"
      ],
      "execution_count": null,
      "outputs": []
    },
    {
      "cell_type": "code",
      "metadata": {
        "colab": {
          "base_uri": "https://localhost:8080/",
          "height": 583
        },
        "id": "-xGVY-HRsNIc",
        "outputId": "4a873850-8596-4213-8fb8-b62e7420c65d"
      },
      "source": [
        "plot_decision_regions(X_train, y_train, h, w_init)\n",
        "print('w_init =', w_init)\n",
        "error_tr = L_01(h, w_init, X_train, y_train)\n",
        "print('error=', error_tr)"
      ],
      "execution_count": null,
      "outputs": [
        {
          "output_type": "stream",
          "name": "stdout",
          "text": [
            "w_init = [[-1.8629537 ]\n",
            " [-0.50207461]\n",
            " [ 1.93421129]]\n",
            "error= 0.4533333333333333\n"
          ]
        },
        {
          "output_type": "display_data",
          "data": {
            "image/png": "[encoded data removed]",
            "text/plain": [
              "<Figure size 576x576 with 1 Axes>"
            ]
          },
          "metadata": {
            "needs_background": "light"
          }
        }
      ]
    },
    {
      "cell_type": "markdown",
      "metadata": {
        "id": "Z4DdZPU9YTCR"
      },
      "source": [
        "# 4.2. Algoritmo de entramiento\n",
        "\n",
        "<img src=\"https://drive.google.com/uc?id=1HgWhNl9bjn1tEKfeCZuDjgKXqHcN18Dh\" alt=\"mlp\" width=\"1000px\">\n",
        "\n",
        "Fuente: [PERCEPTRON](https://work.caltech.edu/library/013.pdf)"
      ]
    },
    {
      "cell_type": "markdown",
      "metadata": {
        "id": "vsBUVRFTn6t7"
      },
      "source": [
        "<img src=\"https://drive.google.com/uc?id=15sS2-5Uqm-TXZFtx3uedo5GEIZGYwUKi\" alt=\"mlp\" width=\"1000px\">\n"
      ]
    },
    {
      "cell_type": "code",
      "metadata": {
        "id": "Sc0FB-zf1z24"
      },
      "source": [
        "# One epoch training definition\n",
        "def train_epoch(X_train, y_train, h, w):\n",
        "    for x_i, y_i in zip(X_train, y_train):\n",
        "        if l_01(h,w,x_i,y_i): # h(x_i)!=y_i\n",
        "            w = update(w, x_i, y_i) # (w.T + y_i*x_i).T # update function\n",
        "    return w"
      ],
      "execution_count": null,
      "outputs": []
    },
    {
      "cell_type": "code",
      "metadata": {
        "id": "lhmv9i_Lartn"
      },
      "source": [
        "# Training procedure for PLA\n",
        "def train_PLA(X_train, y_train, h, w, T=50):\n",
        "    errors = []\n",
        "    for t in range(T):\n",
        "        error_tr = L_01(h, w, X_train, y_train)\n",
        "        errors.append(error_tr)\n",
        "        # Compute weight vector for one epoch\n",
        "        w = train_epoch(X_train, y_train, h, w)\n",
        "    return w, errors"
      ],
      "execution_count": null,
      "outputs": []
    },
    {
      "cell_type": "code",
      "metadata": {
        "colab": {
          "base_uri": "https://localhost:8080/",
          "height": 583
        },
        "id": "bREktZACXk3Z",
        "outputId": "9e30a5eb-bbdf-4bb4-b742-b779a26b1f1b"
      },
      "source": [
        "# Compute weight vector for one epoch\n",
        "w = train_epoch(X_train, y_train, h, w_init)\n",
        "# Visualizing training procedure for one epoch\n",
        "plot_decision_regions(X_train, y_train, h, w)\n",
        "print('w=', w)\n",
        "error_tr = L_01(h, w, X_train, y_train)\n",
        "print('error=', error_tr)"
      ],
      "execution_count": null,
      "outputs": [
        {
          "output_type": "stream",
          "name": "stdout",
          "text": [
            "w= [[-0.8629537 ]\n",
            " [-6.80207461]\n",
            " [12.33421129]]\n",
            "error= 0.02666666666666667\n"
          ]
        },
        {
          "output_type": "display_data",
          "data": {
            "image/png": "[encoded data removed]",
            "text/plain": [
              "<Figure size 576x576 with 1 Axes>"
            ]
          },
          "metadata": {
            "needs_background": "light"
          }
        }
      ]
    },
    {
      "cell_type": "code",
      "metadata": {
        "id": "e71Gy7VyRjo5"
      },
      "source": [
        "# Initialization\n",
        "seed = 12345\n",
        "init_seed(seed)\n",
        "# set number of training iterations T\n",
        "T = 50\n",
        "# initial weight vector\n",
        "w_init = np.random.normal(size=(3,1))\n",
        "# Compute weight vector for T epochs\n",
        "w, errors = train_PLA(X_train, y_train, h, w_init, T=T)"
      ],
      "execution_count": null,
      "outputs": []
    },
    {
      "cell_type": "code",
      "metadata": {
        "colab": {
          "base_uri": "https://localhost:8080/",
          "height": 1000
        },
        "id": "n8y-591yDJCc",
        "outputId": "be86d736-a478-4d4a-fd90-1c4b53241d7a"
      },
      "source": [
        "# Plot perceptron performance\n",
        "plot_decision_regions(X_train, y_train, h, w)\n",
        "# Set figure canvas and size\n",
        "fig, ax = plt.subplots(figsize=(8,8))\n",
        "# Plot total loss per epoch\n",
        "ax.plot(range(T), errors, marker='o')\n",
        "ax.set_xlabel('Epoch')\n",
        "ax.set_ylabel('Loss')\n",
        "ax.set_title(\"Perceptron performance in training\")\n",
        "plt.show()"
      ],
      "execution_count": null,
      "outputs": [
        {
          "output_type": "display_data",
          "data": {
            "image/png": "[encoded data removed]",
            "text/plain": [
              "<Figure size 576x576 with 1 Axes>"
            ]
          },
          "metadata": {
            "needs_background": "light"
          }
        },
        {
          "output_type": "display_data",
          "data": {
            "image/png": "[encoded data removed]",
            "text/plain": [
              "<Figure size 576x576 with 1 Axes>"
            ]
          },
          "metadata": {
            "needs_background": "light"
          }
        }
      ]
    },
    {
      "cell_type": "markdown",
      "metadata": {
        "id": "SMo_G5uiaKEp"
      },
      "source": [
        "# 4.3. Reajuste de las escalas\n",
        "Debido a que las escalas son diferentes en cada dimension, un atributo pesa más que el otro cuando se actualizan los pesos $\\mathbf{w}$:\n",
        "\\begin{equation}\n",
        "    \\mathbf{w}\\leftarrow\\mathbf{w}+y\\mathbf{x}\n",
        "\\end{equation}\n",
        "En estos casos es necesario reajustar las escalas de cada dimensión para evitar distorsionar la actualización de los pesos. Un procedimiento común es la estandarización:\n",
        "\n",
        "\\begin{equation}\n",
        "X_{std} = \\frac{X - \\mu}{\\sigma}\n",
        "\\end{equation}"
      ]
    },
    {
      "cell_type": "code",
      "metadata": {
        "id": "xlh5Dwk0ZXyj"
      },
      "source": [
        "# Standarization procedure\n",
        "mu = X_train.mean(axis=0)\n",
        "sigma = X_train.std(axis=0)\n",
        "# standarization function\n",
        "std = lambda X, mu, sigma : (X-mu)/sigma"
      ],
      "execution_count": null,
      "outputs": []
    },
    {
      "cell_type": "code",
      "metadata": {
        "id": "-Qa-Wc3U_JTz"
      },
      "source": [
        "# rescaling features\n",
        "X_train[:,1:] = std(X_train[:,1:], mu[1:], sigma[1:]) #(X_train[:,1:] - mu[1:])/sigma[1:]\n",
        "X_test[:,1:] = std(X_test[:,1:], mu[1:], sigma[1:]) #(X_test[:,1:] - mu[1:])/sigma[1:]"
      ],
      "execution_count": null,
      "outputs": []
    },
    {
      "cell_type": "code",
      "metadata": {
        "id": "iT3SucTKc8oj"
      },
      "source": [
        "# Initialization\n",
        "seed = 12345\n",
        "init_seed(seed)\n",
        "# initial weight vector\n",
        "w_init = np.random.normal(size=(3,1))\n",
        "# Compute weight vector for T epochs\n",
        "w, errors = train_PLA(X_train, y_train, h, w_init, T=T)"
      ],
      "execution_count": null,
      "outputs": []
    },
    {
      "cell_type": "code",
      "metadata": {
        "colab": {
          "base_uri": "https://localhost:8080/",
          "height": 1000
        },
        "id": "9j4buE--dH9C",
        "outputId": "1edf1e29-f135-4d64-fed0-c33e82f28586"
      },
      "source": [
        "# Plot perceptron performance\n",
        "plot_decision_regions(X_train, y_train, h, w)\n",
        "# Set figure canvas and size\n",
        "fig, ax = plt.subplots(figsize=(8,8))\n",
        "# Plot total loss per epoch\n",
        "ax.plot(range(T), errors, marker='o')\n",
        "ax.set_xlabel('Epoch')\n",
        "ax.set_ylabel('Loss')\n",
        "ax.set_title(\"Perceptron performance in training\")\n",
        "plt.show()"
      ],
      "execution_count": null,
      "outputs": [
        {
          "output_type": "display_data",
          "data": {
            "image/png": "[encoded data removed]",
            "text/plain": [
              "<Figure size 576x576 with 1 Axes>"
            ]
          },
          "metadata": {
            "needs_background": "light"
          }
        },
        {
          "output_type": "display_data",
          "data": {
            "image/png": "[encoded data removed]",
            "text/plain": [
              "<Figure size 576x576 with 1 Axes>"
            ]
          },
          "metadata": {
            "needs_background": "light"
          }
        }
      ]
    },
    {
      "cell_type": "code",
      "metadata": {
        "colab": {
          "base_uri": "https://localhost:8080/",
          "height": 583
        },
        "id": "Gb_R7tJddbix",
        "outputId": "1ffdfc17-88de-4527-ae3a-f05c0f5b3163"
      },
      "source": [
        "# Plot perceptron performance in test \n",
        "plot_decision_regions(X_test, y_test, h, w)\n",
        "print('w =', w)\n",
        "error_te = L_01(h, w, X_test, y_test)\n",
        "print('error=', error_te)"
      ],
      "execution_count": null,
      "outputs": [
        {
          "output_type": "stream",
          "name": "stdout",
          "text": [
            "w = [[-1.20470766]\n",
            " [-4.55699367]\n",
            " [ 3.06017034]]\n",
            "error= 0.0\n"
          ]
        },
        {
          "output_type": "display_data",
          "data": {
            "image/png": "[encoded data removed]",
            "text/plain": [
              "<Figure size 576x576 with 1 Axes>"
            ]
          },
          "metadata": {
            "needs_background": "light"
          }
        }
      ]
    },
    {
      "cell_type": "markdown",
      "metadata": {
        "id": "MeU8vnEHUPCe"
      },
      "source": [
        "# 5.&nbsp;Consideraciones para datos no separables linealmente\n",
        "<img src=\"https://drive.google.com/uc?id=1dKINhHZDkQdBDWfVo8xNK6Guc1FTYq1H\" alt=\"mlp\" width=\"500px\">\n",
        "\n"
      ]
    },
    {
      "cell_type": "markdown",
      "metadata": {
        "id": "WZp1Y9lBg_ru"
      },
      "source": [
        "<img src=\"https://drive.google.com/uc?id=1sPu803diZHP-T5DKqLIukHkUr1VObMAv\" alt=\"mlp\" width=\"1000px\">\n",
        "\n",
        "Fuente: [POCKET ALGORITHM](https://work.caltech.edu/library/032.pdf)"
      ]
    },
    {
      "cell_type": "markdown",
      "metadata": {
        "id": "pUOtXJfNqLA5"
      },
      "source": [
        "# 5.1. Ejemplo de datos no separables (dataset Iris)"
      ]
    },
    {
      "cell_type": "code",
      "metadata": {
        "colab": {
          "base_uri": "https://localhost:8080/",
          "height": 514
        },
        "id": "Fy3U2icZmOTw",
        "outputId": "b681dad2-d994-4b33-9a5d-2c357e9ab93e"
      },
      "source": [
        "# Set figure canvas and size\n",
        "fig = plt.figure(figsize=(8,8))\n",
        "# plot Iris Setosa samples\n",
        "plt.scatter(X2[:,0], X2[:,2], color='red', marker='o', label='Versicolor')\n",
        "# plot Iris Versicolour samples\n",
        "plt.scatter(X3[:,0], X3[:,2], color='blue', marker='x', label='Virginica')\n",
        "# show the legend\n",
        "plt.xlabel(\"Sepal length\")\n",
        "plt.ylabel(\"Petal length\")\n",
        "plt.legend(loc='upper left')"
      ],
      "execution_count": null,
      "outputs": [
        {
          "output_type": "execute_result",
          "data": {
            "text/plain": [
              "<matplotlib.legend.Legend at 0x7ff05b98f350>"
            ]
          },
          "metadata": {},
          "execution_count": 21
        },
        {
          "output_type": "display_data",
          "data": {
            "image/png": "[encoded data removed]",
            "text/plain": [
              "<Figure size 576x576 with 1 Axes>"
            ]
          },
          "metadata": {
            "needs_background": "light"
          }
        }
      ]
    },
    {
      "cell_type": "markdown",
      "metadata": {
        "id": "eBrhRqD7gnJE"
      },
      "source": [
        "\n",
        "# 6.&nbsp;Ingeniería de características para aprendizaje automático\n",
        "<img src=\"https://upload.wikimedia.org/wikipedia/commons/thumb/8/8a/Perceptron_example.svg/500px-Perceptron_example.svg.png\" alt=\"mlp\" width=\"700px\">\n",
        "\n",
        "Fuente: [Perceptron](https://upload.wikimedia.org/wikipedia/commons/thumb/8/8a/Perceptron_example.svg/500px-Perceptron_example.svg.png)"
      ]
    },
    {
      "cell_type": "markdown",
      "metadata": {
        "id": "sTfhoagRqq81"
      },
      "source": [
        "* Considerar la disponibilidad de observaciones\n",
        "* Considerar la complejidad del problema\n",
        "* Evaluar si el modelo debe ser explicable"
      ]
    },
    {
      "cell_type": "markdown",
      "metadata": {
        "id": "UyNAPWNDzdCp"
      },
      "source": [
        "# 7.&nbsp;Perceptrón multicapa y aprendizaje automático *end-to-end* **bold text**"
      ]
    },
    {
      "cell_type": "markdown",
      "metadata": {
        "id": "P3jXoih0rDuG"
      },
      "source": [
        "# 7.1 Arquitectura de un perceptrón\n",
        "El perceptrón estudiado hasta ahora tiene la siguiente arquitectura: \n",
        "\n",
        "<img src=\"https://drive.google.com/uc?id=1lQZslwXqkjR9XJy3SE3mCdKpQoa6RGaX\" alt=\"mlp\" width=\"1000px\">\n",
        "\n",
        "\n"
      ]
    },
    {
      "cell_type": "markdown",
      "metadata": {
        "id": "BevgiXyW06fK"
      },
      "source": [
        "# 7.2. Arquitectura y entrenamiento de un perceptrón multicapa (MLP)  \n",
        "La anterior arquitectura puede ser generalizada a un perceptrón multicapa que presenta los siguientes componentes:\n",
        "\n",
        "<img src=\"https://drive.google.com/uc?id=1VicC4bdicGeSdPw6mX5PV8EaGeJRYpPb\" alt=\"mlp\" width=\"1000px\">"
      ]
    },
    {
      "cell_type": "markdown",
      "metadata": {
        "id": "OF3kCb9N1ETZ"
      },
      "source": [
        "| $\\Huge \\textrm{Weights}$            |  $\\Huge \\textrm{Outputs}$    |      \n",
        "|:-------------------------:|:-------------------------:|\n",
        "|\\begin{equation}\n",
        "    \\Huge\n",
        "  w_{ij}^{(l)}\n",
        "    \\begin{cases}\n",
        "      1\\leq l\\leq L & \\text{# layers}\\\\\n",
        "      0\\leq i\\leq d^{(l-1)} & \\text{# inputs}\\\\\n",
        "      1\\leq j\\leq d^{(l)} & \\text{# outputs}\n",
        "    \\end{cases}       \n",
        "\\end{equation}  |  \\begin{equation}\n",
        "\\Huge x_j^{(l)}=\\theta\\left(\\sum_{i=0}^{d^{(l-1)}} w_{ij}^{(l)} x_{i}^{(l-1)}\\right)\n",
        "\\end{equation} |\n"
      ]
    },
    {
      "cell_type": "markdown",
      "metadata": {
        "id": "kvaQpqm--CRo"
      },
      "source": [
        "El proceso de entrenamiento de un perceptrón multicapa puede representarse de la siguiente manera:\n",
        "\n",
        "<img src=\"https://drive.google.com/uc?id=14BoKxB_eP7t2OW3KXJIV3TOg1qEHUqO1\" alt=\"mlp\" width=\"1000px\">"
      ]
    },
    {
      "cell_type": "markdown",
      "metadata": {
        "id": "ejvOzfYb_mbF"
      },
      "source": [
        "Objetivo:\n",
        "\\begin{equation}\n",
        "\\huge \\min_{\\mathbf{W}} \\frac{1}{N}\\sum_{i=0}^{N}\\ell(h_{\\mathbf{W}},\\mathbf{x}_i,y_i) \n",
        "\\end{equation}"
      ]
    },
    {
      "cell_type": "markdown",
      "metadata": {
        "id": "bboCoNtsKhPL"
      },
      "source": [
        "# 8.&nbsp;Ejemplo de clasificación multiclase con MLP (MNIST dataset)\n"
      ]
    },
    {
      "cell_type": "code",
      "metadata": {
        "id": "o-g6G6KzauTS",
        "colab": {
          "base_uri": "https://localhost:8080/"
        },
        "outputId": "958cf646-23d4-45a7-c9ba-c87f16af1989"
      },
      "source": [
        "# Load data using Keras\n",
        "(X_train, y_train), (X_test, y_test) = tf.keras.datasets.mnist.load_data()"
      ],
      "execution_count": null,
      "outputs": [
        {
          "output_type": "stream",
          "name": "stdout",
          "text": [
            "Downloading data from https://storage.googleapis.com/tensorflow/tf-keras-datasets/mnist.npz\n",
            "11493376/11490434 [==============================] - 0s 0us/step\n",
            "11501568/11490434 [==============================] - 0s 0us/step\n"
          ]
        }
      ]
    },
    {
      "cell_type": "code",
      "metadata": {
        "id": "7OgWxel2i2xB"
      },
      "source": [
        "def visualize_dataset(X, y, rows=4, cols=4):\n",
        "    # Plot a few of images\n",
        "    fig, ax = plt.subplots(nrows=rows, ncols=cols, sharex=True, sharey=True, figsize=(cols*2,rows*2))\n",
        "    k = 0\n",
        "    for i in range(rows):\n",
        "        for j in range(cols):\n",
        "            ax[i][j].imshow(X[k], cmap=plt.cm.gray)\n",
        "            ax[i][j].set_title(\"$y_{{{}}}$=\".format(k)+str(y[k]))\n",
        "            ax[i][j].set_ylabel(\"$x_{{{}}}$=\".format(k))\n",
        "            ax[i][j].set_yticks([])\n",
        "            ax[i][j].set_xticks([])\n",
        "            # ax[i][j].set_axis_off()\n",
        "            k = k+1\n",
        "    fig.suptitle(\"MNIST digits $(n_{{train}}={{{}}}$)\".format(len(X)), fontsize=20)\n",
        "    plt.show()\n"
      ],
      "execution_count": null,
      "outputs": []
    },
    {
      "cell_type": "code",
      "metadata": {
        "colab": {
          "base_uri": "https://localhost:8080/",
          "height": 527
        },
        "id": "Bl3Lv91on6oA",
        "outputId": "9c43e659-28f5-4a27-d9fb-1f7317900788"
      },
      "source": [
        "# visualize random numbers\n",
        "visualize_dataset(X_train, y_train, rows=4, cols=4)"
      ],
      "execution_count": null,
      "outputs": [
        {
          "output_type": "display_data",
          "data": {
            "image/png": "[encoded data removed]",
            "text/plain": [
              "<Figure size 576x576 with 16 Axes>"
            ]
          },
          "metadata": {}
        }
      ]
    },
    {
      "cell_type": "code",
      "metadata": {
        "id": "XPY6pjFgtaCc"
      },
      "source": [
        "# PREPROCESSING \n",
        "# normalize inputs from 0-255 to 0-1\n",
        "X_train = X_train / 255\n",
        "X_test = X_test / 255\n",
        "# reshape images to vectors\n",
        "# flatten 28*28 images to a 784 vector for each image\n",
        "width = X_train.shape[1]\n",
        "height = X_train.shape[2]\n",
        "num_pixels = width * height\n",
        "X_train_vec = X_train.reshape((X_train.shape[0], num_pixels)).astype('float32')\n",
        "X_test_vec = X_test.reshape((X_test.shape[0], num_pixels)).astype('float32')"
      ],
      "execution_count": null,
      "outputs": []
    },
    {
      "cell_type": "code",
      "metadata": {
        "colab": {
          "base_uri": "https://localhost:8080/"
        },
        "id": "bfubm-gRXNC_",
        "outputId": "19b67be2-36bc-4b82-c703-ae2a42ae7d50"
      },
      "source": [
        "X_train_vec[0,:].shape"
      ],
      "execution_count": null,
      "outputs": [
        {
          "output_type": "execute_result",
          "data": {
            "text/plain": [
              "(784,)"
            ]
          },
          "metadata": {},
          "execution_count": 26
        }
      ]
    },
    {
      "cell_type": "code",
      "metadata": {
        "id": "N3lvPPGEkvMM"
      },
      "source": [
        "def simple_model_regression(input_size,output_size):\n",
        "    # create model\n",
        "    # model = Sequential()\n",
        "    model = tf.keras.models.Sequential()\n",
        "    # model.add(Dense(num_pixels, input_dim=num_pixels, kernel_initializer='normal', activation='relu'))\n",
        "    model.add(tf.keras.Input(shape=(input_size,)))\n",
        "    # model.add(tf.keras.layers.Reshape((input_size,1)))\n",
        "    model.add(tf.keras.layers.Dense(128, activation='tanh', kernel_initializer='normal'))\n",
        "    model.add(tf.keras.layers.Dense(32, activation='tanh', kernel_initializer='normal'))\n",
        "    model.add(tf.keras.layers.Dense(output_size, activation='linear', kernel_initializer='normal'))\n",
        "    # model.add(Dense(num_classes, kernel_initializer='normal', activation='softmax'))\n",
        "    \n",
        "    # Compile model\n",
        "    model.compile(loss=tf.keras.losses.MeanSquaredError(), optimizer='adam', metrics=[tf.keras.metrics.RootMeanSquaredError()])\n",
        "    return model"
      ],
      "execution_count": null,
      "outputs": []
    },
    {
      "cell_type": "code",
      "metadata": {
        "colab": {
          "base_uri": "https://localhost:8080/"
        },
        "id": "fbQ7r_szlUJE",
        "outputId": "fe6cbaf7-d99e-4d8f-8376-ab0eadf18134"
      },
      "source": [
        "# Initialization\n",
        "seed = 12345\n",
        "init_seed(seed)\n",
        "# build the model\n",
        "model_mlp_reg = simple_model_regression(input_size=num_pixels, output_size=1)\n",
        "# Fit the model\n",
        "model_mlp_reg.fit(X_train_vec, y_train, validation_data=(X_test_vec, y_test), epochs=10, batch_size=100, verbose=2)"
      ],
      "execution_count": null,
      "outputs": [
        {
          "output_type": "stream",
          "name": "stdout",
          "text": [
            "Epoch 1/10\n",
            "600/600 - 4s - loss: 5.2210 - root_mean_squared_error: 2.2849 - val_loss: 1.4378 - val_root_mean_squared_error: 1.1991\n",
            "Epoch 2/10\n",
            "600/600 - 1s - loss: 0.9647 - root_mean_squared_error: 0.9822 - val_loss: 0.8157 - val_root_mean_squared_error: 0.9032\n",
            "Epoch 3/10\n",
            "600/600 - 1s - loss: 0.6267 - root_mean_squared_error: 0.7917 - val_loss: 0.6223 - val_root_mean_squared_error: 0.7889\n",
            "Epoch 4/10\n",
            "600/600 - 1s - loss: 0.4861 - root_mean_squared_error: 0.6972 - val_loss: 0.5477 - val_root_mean_squared_error: 0.7401\n",
            "Epoch 5/10\n",
            "600/600 - 1s - loss: 0.4039 - root_mean_squared_error: 0.6355 - val_loss: 0.4947 - val_root_mean_squared_error: 0.7034\n",
            "Epoch 6/10\n",
            "600/600 - 1s - loss: 0.3398 - root_mean_squared_error: 0.5829 - val_loss: 0.4796 - val_root_mean_squared_error: 0.6925\n",
            "Epoch 7/10\n",
            "600/600 - 1s - loss: 0.2922 - root_mean_squared_error: 0.5406 - val_loss: 0.4615 - val_root_mean_squared_error: 0.6794\n",
            "Epoch 8/10\n",
            "600/600 - 1s - loss: 0.2472 - root_mean_squared_error: 0.4972 - val_loss: 0.4420 - val_root_mean_squared_error: 0.6648\n",
            "Epoch 9/10\n",
            "600/600 - 1s - loss: 0.2077 - root_mean_squared_error: 0.4557 - val_loss: 0.4362 - val_root_mean_squared_error: 0.6604\n",
            "Epoch 10/10\n",
            "600/600 - 1s - loss: 0.1827 - root_mean_squared_error: 0.4275 - val_loss: 0.4039 - val_root_mean_squared_error: 0.6355\n"
          ]
        },
        {
          "output_type": "execute_result",
          "data": {
            "text/plain": [
              "<keras.callbacks.History at 0x7fefe272ba50>"
            ]
          },
          "metadata": {},
          "execution_count": 28
        }
      ]
    },
    {
      "cell_type": "code",
      "metadata": {
        "colab": {
          "base_uri": "https://localhost:8080/",
          "height": 551
        },
        "id": "MQTIfuuoiSUN",
        "outputId": "7e16e297-3e47-48c3-c12e-707aba9b5eef"
      },
      "source": [
        "k = 1234\n",
        "# Print predictions\n",
        "h_x = model_mlp_reg.predict(X_test_vec[[k]])\n",
        "print('h(x)=', h_x)\n",
        "print('h(x)_(trunc)=', np.abs(np.round(h_x)))\n",
        "print('y=', y_test[k])\n",
        "# Set figure canvas and size\n",
        "fig = plt.figure(figsize=(8,8))\n",
        "# plot Iris Setosa samples\n",
        "plt.imshow(X_test[k], cmap=plt.cm.gray)"
      ],
      "execution_count": null,
      "outputs": [
        {
          "output_type": "stream",
          "name": "stdout",
          "text": [
            "h(x)= [[8.0318575]]\n",
            "h(x)_(trunc)= [[8.]]\n",
            "y= 8\n"
          ]
        },
        {
          "output_type": "execute_result",
          "data": {
            "text/plain": [
              "<matplotlib.image.AxesImage at 0x7fefe25edd50>"
            ]
          },
          "metadata": {},
          "execution_count": 33
        },
        {
          "output_type": "display_data",
          "data": {
            "image/png": "[encoded data removed]",
            "text/plain": [
              "<Figure size 576x576 with 1 Axes>"
            ]
          },
          "metadata": {
            "needs_background": "light"
          }
        }
      ]
    },
    {
      "cell_type": "code",
      "metadata": {
        "id": "cK3yS3kUyjvI"
      },
      "source": [
        "# Redefinition of the loss function\n",
        "# loss function\n",
        "l_01 = lambda y_hat,y : y_hat.ravel() != y.ravel()\n",
        "# total loss function\n",
        "L_01 = lambda Y_hat,Y : np.sum(l_01(Y_hat,Y))/len(Y)"
      ],
      "execution_count": null,
      "outputs": []
    },
    {
      "cell_type": "code",
      "metadata": {
        "colab": {
          "base_uri": "https://localhost:8080/"
        },
        "id": "NdOlhGpa45C9",
        "outputId": "e59c7004-767e-4e73-b3c0-234f3552a20a"
      },
      "source": [
        "# Final evaluation of the model\n",
        "scores = model_mlp_reg.evaluate(X_test_vec, y_test, verbose=0)\n",
        "print(\"Baseline Error for regression: %.2f (RMSE)\" % (scores[1]))\n",
        "h_X_test = model_mlp_reg.predict(X_test_vec).ravel()\n",
        "h_X_test_tr = np.abs(np.round(h_X_test))\n",
        "print(\"Error rate for regression (truncated prediction): %.2f%%\" % (100*L_01(h_X_test_tr,y_test)))"
      ],
      "execution_count": null,
      "outputs": [
        {
          "output_type": "stream",
          "name": "stdout",
          "text": [
            "Baseline Error for regression: 0.64 (RMSE)\n",
            "Error rate for regression (truncated prediction): 12.46%\n"
          ]
        }
      ]
    },
    {
      "cell_type": "code",
      "metadata": {
        "colab": {
          "base_uri": "https://localhost:8080/",
          "height": 316
        },
        "id": "6q0KflHsl5LL",
        "outputId": "71924a21-f67a-4f43-fa01-f34d76fece17"
      },
      "source": [
        "# Finding the sample that generates the greatest mse\n",
        "mse_error = (h_X_test-y_test)**2\n",
        "j = np.argmax(mse_error)\n",
        "print('h=', model_mlp_reg.predict(X_test_vec[[j]]).ravel())\n",
        "print('y=', y_test[j])\n",
        "# Set figure canvas and size\n",
        "fig = plt.figure(figsize=(4,4))\n",
        "# plot Iris Setosa samples\n",
        "plt.imshow(X_test[j], cmap=plt.cm.gray)"
      ],
      "execution_count": null,
      "outputs": [
        {
          "output_type": "stream",
          "name": "stdout",
          "text": [
            "h= [0.39432055]\n",
            "y= 9\n"
          ]
        },
        {
          "output_type": "execute_result",
          "data": {
            "text/plain": [
              "<matplotlib.image.AxesImage at 0x7fefe24ebc50>"
            ]
          },
          "metadata": {},
          "execution_count": 36
        },
        {
          "output_type": "display_data",
          "data": {
            "image/png": "[encoded data removed]",
            "text/plain": [
              "<Figure size 288x288 with 1 Axes>"
            ]
          },
          "metadata": {
            "needs_background": "light"
          }
        }
      ]
    },
    {
      "cell_type": "code",
      "metadata": {
        "id": "borEUU04yr1_"
      },
      "source": [
        "def shift_image(X, dx, dy):\n",
        "    X = np.roll(X, dy, axis=0)\n",
        "    X = np.roll(X, dx, axis=1)\n",
        "    if dy>0:\n",
        "        X[:dy, :] = 0\n",
        "    elif dy<0:\n",
        "        X[dy:, :] = 0\n",
        "    if dx>0:\n",
        "        X[:, :dx] = 0\n",
        "    elif dx<0:\n",
        "        X[:, dx:] = 0\n",
        "    return X"
      ],
      "execution_count": null,
      "outputs": []
    },
    {
      "cell_type": "code",
      "metadata": {
        "colab": {
          "base_uri": "https://localhost:8080/",
          "height": 282
        },
        "id": "Hxa6xxZhzAYE",
        "outputId": "98a7b590-8f15-4065-ed86-3ec1b6b3c709"
      },
      "source": [
        "x_shifted = shift_image(X_test[j], dx=5, dy=-4)\n",
        "# Set figure canvas and size\n",
        "fig = plt.figure(figsize=(4,4))\n",
        "# plot Iris Setosa samples\n",
        "plt.imshow(x_shifted, cmap=plt.cm.gray)\n",
        "print('y='+str(y_test[j]))"
      ],
      "execution_count": null,
      "outputs": [
        {
          "output_type": "stream",
          "name": "stdout",
          "text": [
            "y=9\n"
          ]
        },
        {
          "output_type": "display_data",
          "data": {
            "image/png": "[encoded data removed]",
            "text/plain": [
              "<Figure size 288x288 with 1 Axes>"
            ]
          },
          "metadata": {
            "needs_background": "light"
          }
        }
      ]
    },
    {
      "cell_type": "code",
      "metadata": {
        "colab": {
          "base_uri": "https://localhost:8080/"
        },
        "id": "ZLAWnoN0zPpb",
        "outputId": "a894a172-86c8-4433-f04d-b28769f7ffa0"
      },
      "source": [
        "print('h=', model_mlp_reg.predict(x_shifted.reshape(1,width*height)).ravel())\n",
        "print('y=', y_test[j])"
      ],
      "execution_count": null,
      "outputs": [
        {
          "output_type": "stream",
          "name": "stdout",
          "text": [
            "h= [5.6172853]\n",
            "y= 9\n"
          ]
        }
      ]
    },
    {
      "cell_type": "markdown",
      "metadata": {
        "id": "n1WyPZNY5yzH"
      },
      "source": [
        "# 8.1. Codificación One-hot (one-hot encoding)\n",
        "La mayoría de los sistemas de aprendizaje automático no son capaces de reconocer que ciertas asociaciones no están basadas en sus atributos numéricos. En otras palabras, el número 9 no es más importante que el número 1 para la tarea de clasificación de dígitos; sin embargo, numéricamente 9>1.\n",
        "\n",
        "Para evitar que estos sistemas ponderen sus predicciones de manera inadecuada, es necesario mapear el espacio de las variables categóricas (cuyo valor no implica importancia) a uno que identifique de manera inequívoca las asociaciones. \n",
        "\n",
        "| $\\Large y=$ | $\\Large0$ | $\\Large1$ | $\\Large2$ | $\\Large3$ | $\\Large4$ | $\\Large5$ | $\\Large6$ | $\\Large7$ | $\\Large8$ | $\\Large9$ |\n",
        "| :--: | :--: | :--: | :--: | :--: | :--: | :--: | :--: | :--: | :--: | :--: |\n",
        "| $\\Large0\\rightarrow$ | 1 | 0 | 0 | 0 | 0 | 0 | 0 | 0 | 0 | 0 |\n",
        "| $\\Large1\\rightarrow$ | 0 | 1 | 0 | 0 | 0 | 0 | 0 | 0 | 0 | 0 |\n",
        "| $\\Large2\\rightarrow$ | 0 | 0 | 1 | 0 | 0 | 0 | 0 | 0 | 0 | 0 |\n",
        "| $\\vdots$ |   |   |   |   |   | $\\vdots$ |   |   |   |   |\n",
        "| $\\Large9\\rightarrow$ | 0 | 0 | 0 | 0 | 0 | 0 | 0 | 0 | 0 | 1 |"
      ]
    },
    {
      "cell_type": "code",
      "metadata": {
        "id": "2qBbdIu35vbN"
      },
      "source": [
        "# one-hot encode targets\n",
        "y_train_enc = tf.keras.utils.to_categorical(y_train, num_classes=10)\n",
        "y_test_enc = tf.keras.utils.to_categorical(y_test, num_classes=10)"
      ],
      "execution_count": null,
      "outputs": []
    },
    {
      "cell_type": "code",
      "metadata": {
        "colab": {
          "base_uri": "https://localhost:8080/"
        },
        "id": "84wb-wi_XPcB",
        "outputId": "cd2f49bb-a786-46ae-b214-b2325d41add9"
      },
      "source": [
        "y_train_enc"
      ],
      "execution_count": null,
      "outputs": [
        {
          "output_type": "execute_result",
          "data": {
            "text/plain": [
              "array([[0., 0., 0., ..., 0., 0., 0.],\n",
              "       [1., 0., 0., ..., 0., 0., 0.],\n",
              "       [0., 0., 0., ..., 0., 0., 0.],\n",
              "       ...,\n",
              "       [0., 0., 0., ..., 0., 0., 0.],\n",
              "       [0., 0., 0., ..., 0., 0., 0.],\n",
              "       [0., 0., 0., ..., 0., 1., 0.]], dtype=float32)"
            ]
          },
          "metadata": {},
          "execution_count": 75
        }
      ]
    },
    {
      "cell_type": "markdown",
      "metadata": {
        "id": "c_tw57kTFR7T"
      },
      "source": [
        "# 8.2. Activación *Softmax*\n",
        "\n",
        "La transformación del espacio de salida $\\mathcal{Y}$ a través de la codificación *one-hot* convierte la tarea de predicción original en uno multivariable. Bajo estas condiciones es posible usar activaciones lineales para cada clase, sin embargo el espacio de salida es un vector compuesto de elementos binarios $y\\in\\{0,1\\}^{K}$, donde $K$ representa el número de clases. En ese sentido, la regresión logística es un procedimiento más adecuado para modelar variables binarias (o distribuciones binomiales) y cuyo resultado puede interpretarse en términos de probabilidad. La función logística $\\sigma:\\mathbb{R}\\rightarrow[0,1]$ puede ser escrita de la siguiente manera:\n",
        "\\begin{equation}\n",
        "\\sigma(z)=\\frac{1}{1+e^{-z}}\n",
        "\\end{equation}\n",
        "La función *Softmax* es una generalización de la función logísitica y se usa para modelar distibuciones multinomiales. Por lo tanto, la función *Softmax* $\\sigma:\\mathbb{R}^K\\rightarrow[0,1]^{K}$ tiene la siguiente forma:\n",
        "\\begin{equation}\n",
        "\\sigma(\\mathbf{z})_j=\\frac{e^{z_j}}{\\sum_{k=1}^K e^{z_k}},\\quad j=1,\\dots,K~\\text{y}~\\mathbb{z}=[z_1,\\dots,z_K]\\in\\mathbb{R}^K \n",
        "\\end{equation} \n",
        "La activación *Softmax* se usa comúnmente en la capa de salida de las redes neuronales para normalizar dicha salida a una distribución de probabilidades sobre las predicciones de clases. Siguiendo nuestra notación, la capa de salida con una activación *Softmax* puede escribirse así: \n",
        "\\begin{equation}\n",
        "x_j^{(L)}=\\sigma\\left(\\sum_{i=0}^{d^{(L-1)}} w_{ij}^{(L)} x_{i}^{(L-1)}\\right)_j=\\frac{e^{\\sum\\limits_{i=0}^{d^{(L-1)}} w_{ij}^{(L)} x_{i}^{(L-1)}}}{\\sum\\limits_{k=1}^{K} e^{\\sum\\limits_{i=0}^{d^{(L-1)}} w_{ik}^{(L)} x_{i}^{(L-1)}}}\n",
        "\\end{equation}"
      ]
    },
    {
      "cell_type": "markdown",
      "metadata": {
        "id": "iCdGkR7TJU58"
      },
      "source": [
        "# 8.3. Función de costo de entropía cruzada\n",
        "\n",
        "A diferencia de una tarea de regresión, las tareas de clasificación son diseñadas de manera que generen salidas probabilísticas a través de la activación en la capa de salida. En ese sentido, la función de costo debe cuantificar la diferencia entre distribuciones de probabilidades para una variable aleatoria dada. Una elección habitual es la entropía cruzada entre la probabilidad real $p$ y la distribución aproximada $q$ definida sobre la variable discreta $x$, cuya expresión matemática está dada por:\n",
        "\\begin{equation}\n",
        "H(p,q) = -\\sum_{\\forall x} p(x)log\\left(q\\left(x\\right)\\right)\n",
        "\\end{equation}  \n",
        "Para una red neuronal cuya salida es multiclase y probabilística $h:\\mathcal{X}\\rightarrow[0,1]^K$, la entropía cruzada puede aplicarse considerando $p$ como la distribución de las etiquetas $y$ y $q$ como la distribución de las predicciones $h$. Por lo tanto, la función de costo puede expresar así:\n",
        "\\begin{equation}\n",
        "\\ell_{CE}(h_{\\mathbf{W}},\\mathbf{x},y)=-\\sum_{i=1}^K y_ilog\\left(h_{\\mathbf{W}}\\left(\\mathbf{x}\\right)_i\\right),\n",
        "\\end{equation}\n",
        "donde $y_i$ denota el componente $i$-ésimo de la etiqueta codificada y $h_{\\mathbf{W}}\\left(\\mathbf{x}\\right)_i$ representa el componente $i$-ésimo del vector de probabilidades generado por $h_{\\mathbf{W}}\\left(\\mathbf{x}\\right)$."
      ]
    },
    {
      "cell_type": "code",
      "metadata": {
        "id": "2FuaMqjUWbMl"
      },
      "source": [
        "def simple_model_prob(input_size,output_size):\n",
        "    # create model\n",
        "    model = tf.keras.models.Sequential()\n",
        "    model.add(tf.keras.Input(shape=(input_size,)))\n",
        "    model.add(tf.keras.layers.Dense(128, activation='tanh', kernel_initializer='normal'))\n",
        "    model.add(tf.keras.layers.Dense(32, activation='tanh', kernel_initializer='normal'))\n",
        "    model.add(tf.keras.layers.Dense(output_size, activation='softmax', kernel_initializer='normal'))\n",
        "    \n",
        "    # Compile model\n",
        "    model.compile(loss='categorical_crossentropy', optimizer='adam', metrics=['accuracy'])\n",
        "    return model"
      ],
      "execution_count": null,
      "outputs": []
    },
    {
      "cell_type": "code",
      "metadata": {
        "id": "zyZheYUS-01T",
        "colab": {
          "base_uri": "https://localhost:8080/"
        },
        "outputId": "0a3a1846-ef43-49e5-9d63-c5fb5947ab18"
      },
      "source": [
        "# Initialization\n",
        "seed = 12345\n",
        "init_seed(seed)\n",
        "# build the model\n",
        "model_mlp_clf = simple_model_prob(input_size=num_pixels, output_size=10)\n",
        "# Fit the model\n",
        "model_mlp_clf.fit(X_train_vec, y_train_enc, validation_data=(X_test_vec, y_test_enc), epochs=10, batch_size=100, verbose=2)"
      ],
      "execution_count": null,
      "outputs": [
        {
          "output_type": "stream",
          "name": "stdout",
          "text": [
            "Epoch 1/10\n",
            "600/600 - 2s - loss: 0.4994 - accuracy: 0.8914 - val_loss: 0.2114 - val_accuracy: 0.9389\n",
            "Epoch 2/10\n",
            "600/600 - 2s - loss: 0.1623 - accuracy: 0.9534 - val_loss: 0.1329 - val_accuracy: 0.9609\n",
            "Epoch 3/10\n",
            "600/600 - 2s - loss: 0.1079 - accuracy: 0.9695 - val_loss: 0.1052 - val_accuracy: 0.9690\n",
            "Epoch 4/10\n",
            "600/600 - 1s - loss: 0.0774 - accuracy: 0.9777 - val_loss: 0.0906 - val_accuracy: 0.9724\n",
            "Epoch 5/10\n",
            "600/600 - 1s - loss: 0.0597 - accuracy: 0.9826 - val_loss: 0.0833 - val_accuracy: 0.9758\n",
            "Epoch 6/10\n",
            "600/600 - 1s - loss: 0.0460 - accuracy: 0.9868 - val_loss: 0.0798 - val_accuracy: 0.9751\n",
            "Epoch 7/10\n",
            "600/600 - 1s - loss: 0.0351 - accuracy: 0.9898 - val_loss: 0.0760 - val_accuracy: 0.9780\n",
            "Epoch 8/10\n",
            "600/600 - 2s - loss: 0.0278 - accuracy: 0.9924 - val_loss: 0.0778 - val_accuracy: 0.9759\n",
            "Epoch 9/10\n",
            "600/600 - 1s - loss: 0.0213 - accuracy: 0.9945 - val_loss: 0.0806 - val_accuracy: 0.9765\n",
            "Epoch 10/10\n",
            "600/600 - 1s - loss: 0.0175 - accuracy: 0.9952 - val_loss: 0.0763 - val_accuracy: 0.9773\n"
          ]
        },
        {
          "output_type": "execute_result",
          "data": {
            "text/plain": [
              "<keras.callbacks.History at 0x7ff05b2f9c10>"
            ]
          },
          "metadata": {},
          "execution_count": 77
        }
      ]
    },
    {
      "cell_type": "code",
      "metadata": {
        "colab": {
          "base_uri": "https://localhost:8080/"
        },
        "id": "mP0iD2GoeqWd",
        "outputId": "e6d6f404-5f34-40ba-a06f-873c041c567c"
      },
      "source": [
        "# Final evaluation of the model\n",
        "scores = model_mlp_clf.evaluate(X_test_vec, y_test_enc, verbose=0)\n",
        "print(\"Error rate for classification: %.2f%%\" % (100-scores[1]*100))"
      ],
      "execution_count": null,
      "outputs": [
        {
          "output_type": "stream",
          "name": "stdout",
          "text": [
            "Error rate for classification: 2.27%\n"
          ]
        }
      ]
    },
    {
      "cell_type": "code",
      "metadata": {
        "colab": {
          "base_uri": "https://localhost:8080/"
        },
        "id": "i3Ff88EgfKlY",
        "outputId": "5a842a6a-e159-44d7-ef9b-7512d6e7577c"
      },
      "source": [
        "print('h(x)_MLP=', np.argmax(model_mlp_clf.predict(X_test_vec[[j]])))\n",
        "print('y=', np.argmax(y_test_enc[j]))"
      ],
      "execution_count": null,
      "outputs": [
        {
          "output_type": "stream",
          "name": "stdout",
          "text": [
            "h(x)_MLP= 5\n",
            "y= 9\n"
          ]
        }
      ]
    },
    {
      "cell_type": "markdown",
      "metadata": {
        "id": "NgOAbYyCP219"
      },
      "source": [
        "# 9.&nbsp;Arquitectura LeNet\n",
        "La información espacial es destruida al vectorizar las imágenes. \n",
        "\n",
        "<img src=\"https://www.qmedia.jp/content/images/2018/02/MNIST_recognition.png\" alt=\"mlp\" width=\"800px\">\n",
        "\n",
        "Fuente: [Unsupervised Learning](https://www.qmedia.jp/rigetti-unsupervised-learning/)\n",
        "\n",
        "\n",
        "\n"
      ]
    },
    {
      "cell_type": "markdown",
      "metadata": {
        "id": "k4LsBcKCru2O"
      },
      "source": [
        "Arquitectura propuesta por Yann LeCun y Yoshua Bengio busca patrones en la información bidimensional de los dígitos.\n",
        "<img src=\"https://d2l.ai/_images/lenet.svg\" alt=\"mlp\" width=\"1000px\">\n",
        "Fuente: [Convolutional Neural Networks (LeNet)](https://d2l.ai/chapter_convolutional-neural-networks/lenet.html)"
      ]
    },
    {
      "cell_type": "code",
      "metadata": {
        "id": "YYyNaGBPdctm"
      },
      "source": [
        "def lenet_model(input_shape=(28,28), output_shape=10):\n",
        "    \n",
        "    model = tf.keras.Sequential()\n",
        "    # input layer\n",
        "    model.add(tf.keras.Input(shape=(input_shape[0],input_shape[1],1)))\n",
        "    # convolutional layer 1\n",
        "    model.add(tf.keras.layers.Conv2D(filters=6, kernel_size=(5, 5), \n",
        "                                    strides=(1, 1), activation='tanh'))\n",
        "    # average pooling layer 1\n",
        "    model.add(tf.keras.layers.AveragePooling2D(pool_size=(2, 2), \n",
        "                                                strides=(2, 2)))\n",
        "    # convolutional layer 2\n",
        "    model.add(tf.keras.layers.Conv2D(filters=16, kernel_size=(5, 5), \n",
        "                                    strides=(1, 1), activation='tanh'))\n",
        "    # average pooling layer 2 \n",
        "    model.add(tf.keras.layers.AveragePooling2D(pool_size=(2, 2), \n",
        "                                                strides=(2, 2)))\n",
        "    model.add(tf.keras.layers.Flatten())\n",
        "    # fully connected\n",
        "    model.add(tf.keras.layers.Dense(units=120, activation='tanh'))\n",
        "    model.add(tf.keras.layers.Flatten())\n",
        "    # fully connected\n",
        "    model.add(tf.keras.layers.Dense(units=84, activation='tanh'))\n",
        "    # output layer\n",
        "    model.add(tf.keras.layers.Dense(units=output_shape, activation='softmax'))\n",
        "    #slightly changed from the original formulation\n",
        "\n",
        "    model.compile(loss='categorical_crossentropy', optimizer=tf.keras.optimizers.Adam(), \n",
        "                    metrics=['accuracy'])\n",
        "  \n",
        "    return model"
      ],
      "execution_count": null,
      "outputs": []
    },
    {
      "cell_type": "code",
      "metadata": {
        "colab": {
          "base_uri": "https://localhost:8080/"
        },
        "id": "FeCQATE61zF0",
        "outputId": "f7429014-4fa0-4aac-901f-e5e3702f4437"
      },
      "source": [
        "# Initialization\n",
        "seed = 12345\n",
        "init_seed(seed)\n",
        "# build the model\n",
        "model_cnn = lenet_model(input_shape=(width,height), output_shape=10)\n",
        "# Add a new axis\n",
        "X_train_ed = X_train[:, :, :, np.newaxis]\n",
        "X_test_ed = X_test[:, :, :, np.newaxis]\n",
        "# Fit the model\n",
        "model_cnn.fit(X_train_ed, y_train_enc, validation_data=(X_test_ed, y_test_enc), epochs=10, batch_size=100, verbose=2) "
      ],
      "execution_count": null,
      "outputs": [
        {
          "output_type": "stream",
          "name": "stdout",
          "text": [
            "Epoch 1/10\n",
            "600/600 - 3s - loss: 0.3152 - accuracy: 0.9083 - val_loss: 0.1390 - val_accuracy: 0.9592\n",
            "Epoch 2/10\n",
            "600/600 - 2s - loss: 0.1174 - accuracy: 0.9651 - val_loss: 0.0853 - val_accuracy: 0.9741\n",
            "Epoch 3/10\n",
            "600/600 - 2s - loss: 0.0800 - accuracy: 0.9756 - val_loss: 0.0650 - val_accuracy: 0.9803\n",
            "Epoch 4/10\n",
            "600/600 - 2s - loss: 0.0592 - accuracy: 0.9821 - val_loss: 0.0557 - val_accuracy: 0.9819\n",
            "Epoch 5/10\n",
            "600/600 - 2s - loss: 0.0492 - accuracy: 0.9847 - val_loss: 0.0499 - val_accuracy: 0.9841\n",
            "Epoch 6/10\n",
            "600/600 - 2s - loss: 0.0384 - accuracy: 0.9881 - val_loss: 0.0463 - val_accuracy: 0.9851\n",
            "Epoch 7/10\n",
            "600/600 - 2s - loss: 0.0314 - accuracy: 0.9901 - val_loss: 0.0433 - val_accuracy: 0.9866\n",
            "Epoch 8/10\n",
            "600/600 - 2s - loss: 0.0276 - accuracy: 0.9909 - val_loss: 0.0425 - val_accuracy: 0.9865\n",
            "Epoch 9/10\n",
            "600/600 - 2s - loss: 0.0230 - accuracy: 0.9925 - val_loss: 0.0501 - val_accuracy: 0.9853\n",
            "Epoch 10/10\n",
            "600/600 - 2s - loss: 0.0197 - accuracy: 0.9935 - val_loss: 0.0398 - val_accuracy: 0.9879\n"
          ]
        },
        {
          "output_type": "execute_result",
          "data": {
            "text/plain": [
              "<keras.callbacks.History at 0x7fefe1d27c90>"
            ]
          },
          "metadata": {},
          "execution_count": 81
        }
      ]
    },
    {
      "cell_type": "code",
      "metadata": {
        "colab": {
          "base_uri": "https://localhost:8080/"
        },
        "id": "ZJIRvsgu6MhW",
        "outputId": "41012259-4ab6-4552-b231-d5778872d578"
      },
      "source": [
        "# Final evaluation of the model\n",
        "scores = model_cnn.evaluate(X_test_ed, y_test_enc, verbose=0)\n",
        "print(\"Error rate for classification: %.2f%%\" % (100-scores[1]*100))"
      ],
      "execution_count": null,
      "outputs": [
        {
          "output_type": "stream",
          "name": "stdout",
          "text": [
            "Error rate for classification: 1.21%\n"
          ]
        }
      ]
    },
    {
      "cell_type": "code",
      "metadata": {
        "colab": {
          "base_uri": "https://localhost:8080/",
          "height": 370
        },
        "id": "tqCkVF4X3MZL",
        "outputId": "8cab07c2-4c09-4f2f-bd15-9a2e9e900864"
      },
      "source": [
        "print('h(x)_MLP=', np.argmax(model_mlp_clf.predict(X_test_ed[[j]].reshape(1,width*height))))\n",
        "print('h(x)_CNN=', np.argmax(model_cnn.predict(X_test_ed[[j]])))\n",
        "print('y=', np.argmax(y_test_enc[j]))\n",
        "# Set figure canvas and size\n",
        "fig = plt.figure(figsize=(4,4))\n",
        "# plot MNIST sample\n",
        "plt.imshow(X_test[j], cmap=plt.cm.gray)"
      ],
      "execution_count": null,
      "outputs": [
        {
          "output_type": "stream",
          "name": "stdout",
          "text": [
            "h(x)_MLP= 5\n",
            "WARNING:tensorflow:5 out of the last 13 calls to <function Model.make_predict_function.<locals>.predict_function at 0x7fefe1cdee60> triggered tf.function retracing. Tracing is expensive and the excessive number of tracings could be due to (1) creating @tf.function repeatedly in a loop, (2) passing tensors with different shapes, (3) passing Python objects instead of tensors. For (1), please define your @tf.function outside of the loop. For (2), @tf.function has experimental_relax_shapes=True option that relaxes argument shapes that can avoid unnecessary retracing. For (3), please refer to https://www.tensorflow.org/guide/function#controlling_retracing and https://www.tensorflow.org/api_docs/python/tf/function for  more details.\n",
            "h(x)_CNN= 9\n",
            "y= 9\n"
          ]
        },
        {
          "output_type": "execute_result",
          "data": {
            "text/plain": [
              "<matplotlib.image.AxesImage at 0x7fefe1b0f710>"
            ]
          },
          "metadata": {},
          "execution_count": 83
        },
        {
          "output_type": "display_data",
          "data": {
            "image/png": "[encoded data removed]",
            "text/plain": [
              "<Figure size 288x288 with 1 Axes>"
            ]
          },
          "metadata": {
            "needs_background": "light"
          }
        }
      ]
    },
    {
      "cell_type": "code",
      "metadata": {
        "colab": {
          "base_uri": "https://localhost:8080/",
          "height": 333
        },
        "id": "fDqU1spQ7TEm",
        "outputId": "077de6f4-1b32-44e7-8451-dada2f058705"
      },
      "source": [
        "# x_shifted.shape\n",
        "# model_cnn.predict(x_shifted[np.newaxis,:,:,np.newaxis])\n",
        "print('h(x)_MLP=', np.argmax(model_mlp_clf.predict(x_shifted.reshape(1,width*height))))\n",
        "print('h(x)_CNN=', np.argmax(model_cnn.predict(x_shifted[np.newaxis,:,:,np.newaxis])))\n",
        "# print('h=',model.predict(x_shifted[np.newaxis,:,:,np.newaxis]))\n",
        "print('y=',y_test[j])\n",
        "# Set figure canvas and size\n",
        "fig = plt.figure(figsize=(4,4))\n",
        "# plot MNIST sample\n",
        "plt.imshow(x_shifted, cmap=plt.cm.gray)"
      ],
      "execution_count": null,
      "outputs": [
        {
          "output_type": "stream",
          "name": "stdout",
          "text": [
            "h(x)_MLP= 5\n",
            "h(x)_CNN= 9\n",
            "y= 9\n"
          ]
        },
        {
          "output_type": "execute_result",
          "data": {
            "text/plain": [
              "<matplotlib.image.AxesImage at 0x7ff05b364210>"
            ]
          },
          "metadata": {},
          "execution_count": 67
        },
        {
          "output_type": "display_data",
          "data": {
            "image/png": "[encoded data removed]",
            "text/plain": [
              "<Figure size 288x288 with 1 Axes>"
            ]
          },
          "metadata": {
            "needs_background": "light"
          }
        }
      ]
    },
    {
      "cell_type": "code",
      "metadata": {
        "id": "zXy3YV0u76Qj"
      },
      "source": [
        "# Data Augmentation\n",
        "datagen = tf.keras.preprocessing.image.ImageDataGenerator(\n",
        "            width_shift_range=5, \n",
        "            height_shift_range=5)\n",
        "datagen.fit(X_train_ed)"
      ],
      "execution_count": null,
      "outputs": []
    },
    {
      "cell_type": "code",
      "metadata": {
        "colab": {
          "base_uri": "https://localhost:8080/"
        },
        "id": "E6uinaZkElLW",
        "outputId": "62981e2e-65b3-4bee-eb19-2b56958d8a3f"
      },
      "source": [
        "# Initialization\n",
        "seed = 12345\n",
        "init_seed(seed)\n",
        "# build the model\n",
        "model_CNN = lenet_model(input_shape=(height,width), output_shape=10)\n",
        "# Fit the model\n",
        "model.fit(datagen.flow(X_train_ed, y_train_enc, batch_size=100), steps_per_epoch=len(X_train_ed)/100, \n",
        "                    epochs=20, validation_data=(X_test_ed, y_test_enc))"
      ],
      "execution_count": null,
      "outputs": [
        {
          "output_type": "stream",
          "name": "stdout",
          "text": [
            "Epoch 1/20\n",
            "300/300 [==============================] - 33s 109ms/step - loss: 0.7938 - accuracy: 0.7491 - val_loss: 0.1839 - val_accuracy: 0.9507\n",
            "Epoch 2/20\n",
            "300/300 [==============================] - 33s 110ms/step - loss: 0.2544 - accuracy: 0.9251 - val_loss: 0.1128 - val_accuracy: 0.9652\n",
            "Epoch 3/20\n",
            "300/300 [==============================] - 33s 110ms/step - loss: 0.1785 - accuracy: 0.9459 - val_loss: 0.0857 - val_accuracy: 0.9729\n",
            "Epoch 4/20\n",
            "300/300 [==============================] - 33s 109ms/step - loss: 0.1492 - accuracy: 0.9546 - val_loss: 0.0807 - val_accuracy: 0.9737\n",
            "Epoch 5/20\n",
            "300/300 [==============================] - 33s 110ms/step - loss: 0.1284 - accuracy: 0.9605 - val_loss: 0.0670 - val_accuracy: 0.9780\n",
            "Epoch 6/20\n",
            "300/300 [==============================] - 33s 110ms/step - loss: 0.1153 - accuracy: 0.9646 - val_loss: 0.0660 - val_accuracy: 0.9793\n",
            "Epoch 7/20\n",
            "300/300 [==============================] - 33s 110ms/step - loss: 0.1048 - accuracy: 0.9681 - val_loss: 0.0650 - val_accuracy: 0.9785\n",
            "Epoch 8/20\n",
            "300/300 [==============================] - 33s 111ms/step - loss: 0.0972 - accuracy: 0.9707 - val_loss: 0.0559 - val_accuracy: 0.9820\n",
            "Epoch 9/20\n",
            "300/300 [==============================] - 33s 110ms/step - loss: 0.0930 - accuracy: 0.9708 - val_loss: 0.0539 - val_accuracy: 0.9821\n",
            "Epoch 10/20\n",
            "300/300 [==============================] - 33s 110ms/step - loss: 0.0875 - accuracy: 0.9731 - val_loss: 0.0608 - val_accuracy: 0.9809\n",
            "Epoch 11/20\n",
            "300/300 [==============================] - 34s 113ms/step - loss: 0.0854 - accuracy: 0.9736 - val_loss: 0.0429 - val_accuracy: 0.9857\n",
            "Epoch 12/20\n",
            "300/300 [==============================] - 33s 111ms/step - loss: 0.0838 - accuracy: 0.9739 - val_loss: 0.0507 - val_accuracy: 0.9838\n",
            "Epoch 13/20\n",
            "300/300 [==============================] - 33s 110ms/step - loss: 0.0790 - accuracy: 0.9759 - val_loss: 0.0501 - val_accuracy: 0.9845\n",
            "Epoch 14/20\n",
            "300/300 [==============================] - 33s 111ms/step - loss: 0.0783 - accuracy: 0.9747 - val_loss: 0.0419 - val_accuracy: 0.9866\n",
            "Epoch 15/20\n",
            "300/300 [==============================] - 33s 110ms/step - loss: 0.0750 - accuracy: 0.9765 - val_loss: 0.0381 - val_accuracy: 0.9864\n",
            "Epoch 16/20\n",
            "300/300 [==============================] - 33s 111ms/step - loss: 0.0720 - accuracy: 0.9774 - val_loss: 0.0411 - val_accuracy: 0.9853\n",
            "Epoch 17/20\n",
            "300/300 [==============================] - 33s 110ms/step - loss: 0.0703 - accuracy: 0.9779 - val_loss: 0.0405 - val_accuracy: 0.9869\n",
            "Epoch 18/20\n",
            "300/300 [==============================] - 33s 111ms/step - loss: 0.0695 - accuracy: 0.9783 - val_loss: 0.0398 - val_accuracy: 0.9874\n",
            "Epoch 19/20\n",
            "300/300 [==============================] - 33s 110ms/step - loss: 0.0661 - accuracy: 0.9791 - val_loss: 0.0471 - val_accuracy: 0.9846\n",
            "Epoch 20/20\n",
            "300/300 [==============================] - 33s 110ms/step - loss: 0.0656 - accuracy: 0.9791 - val_loss: 0.0390 - val_accuracy: 0.9870\n"
          ]
        },
        {
          "output_type": "execute_result",
          "data": {
            "text/plain": [
              "<keras.callbacks.History at 0x7f53846d56d0>"
            ]
          },
          "metadata": {},
          "execution_count": 164
        }
      ]
    },
    {
      "cell_type": "code",
      "metadata": {
        "colab": {
          "base_uri": "https://localhost:8080/"
        },
        "id": "h3uSFWuKFJJU",
        "outputId": "a2956307-e836-41f7-cb47-c997e2ec98bc"
      },
      "source": [
        "# x_shifted.shape\n",
        "model.predict(x_shifted[np.newaxis,:,:,np.newaxis])\n",
        "# np.argmax(model.predict(x_shifted[np.newaxis,:,:,np.newaxis]))\n",
        "# print('h=',model.predict(x_shifted[np.newaxis,:,:,np.newaxis]))\n",
        "# print('y=',y_test[j])"
      ],
      "execution_count": null,
      "outputs": [
        {
          "output_type": "execute_result",
          "data": {
            "text/plain": [
              "array([[5.1146944e-06, 2.6705347e-05, 6.1712204e-03, 6.5767902e-01,\n",
              "        8.1119897e-06, 1.4983922e-02, 1.1050258e-05, 1.1560048e-03,\n",
              "        3.1436014e-01, 5.5985888e-03]], dtype=float32)"
            ]
          },
          "metadata": {},
          "execution_count": 165
        }
      ]
    },
    {
      "cell_type": "code",
      "metadata": {
        "id": "5RcUKP5IHoSu"
      },
      "source": [
        ""
      ],
      "execution_count": null,
      "outputs": []
    }
  ]
}